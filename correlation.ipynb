{
 "cells": [
  {
   "cell_type": "code",
   "execution_count": 1,
   "id": "6aa23146",
   "metadata": {},
   "outputs": [],
   "source": [
    "import pandas as pd\n",
    "import numpy as np"
   ]
  },
  {
   "cell_type": "code",
   "execution_count": 2,
   "id": "2540a828",
   "metadata": {},
   "outputs": [],
   "source": [
    "df = pd.read_csv('test_df_correlations.csv')"
   ]
  },
  {
   "cell_type": "code",
   "execution_count": 3,
   "id": "ec5cc26e",
   "metadata": {},
   "outputs": [
    {
     "data": {
      "text/html": [
       "<div>\n",
       "<style scoped>\n",
       "    .dataframe tbody tr th:only-of-type {\n",
       "        vertical-align: middle;\n",
       "    }\n",
       "\n",
       "    .dataframe tbody tr th {\n",
       "        vertical-align: top;\n",
       "    }\n",
       "\n",
       "    .dataframe thead th {\n",
       "        text-align: right;\n",
       "    }\n",
       "</style>\n",
       "<table border=\"1\" class=\"dataframe\">\n",
       "  <thead>\n",
       "    <tr style=\"text-align: right;\">\n",
       "      <th></th>\n",
       "      <th>x1</th>\n",
       "      <th>x2</th>\n",
       "      <th>x3</th>\n",
       "      <th>x4</th>\n",
       "      <th>y</th>\n",
       "    </tr>\n",
       "  </thead>\n",
       "  <tbody>\n",
       "    <tr>\n",
       "      <th>0</th>\n",
       "      <td>1.093225</td>\n",
       "      <td>1.309176</td>\n",
       "      <td>1.897384</td>\n",
       "      <td>2.486451</td>\n",
       "      <td>22.235206</td>\n",
       "    </tr>\n",
       "    <tr>\n",
       "      <th>1</th>\n",
       "      <td>0.157014</td>\n",
       "      <td>1.904288</td>\n",
       "      <td>3.806877</td>\n",
       "      <td>0.614027</td>\n",
       "      <td>10.353393</td>\n",
       "    </tr>\n",
       "    <tr>\n",
       "      <th>2</th>\n",
       "      <td>1.435626</td>\n",
       "      <td>3.195309</td>\n",
       "      <td>0.754102</td>\n",
       "      <td>3.171253</td>\n",
       "      <td>18.539806</td>\n",
       "    </tr>\n",
       "    <tr>\n",
       "      <th>3</th>\n",
       "      <td>0.863223</td>\n",
       "      <td>4.285680</td>\n",
       "      <td>2.768888</td>\n",
       "      <td>2.026447</td>\n",
       "      <td>16.726124</td>\n",
       "    </tr>\n",
       "    <tr>\n",
       "      <th>4</th>\n",
       "      <td>1.516882</td>\n",
       "      <td>0.326480</td>\n",
       "      <td>1.731697</td>\n",
       "      <td>3.333764</td>\n",
       "      <td>18.630835</td>\n",
       "    </tr>\n",
       "    <tr>\n",
       "      <th>...</th>\n",
       "      <td>...</td>\n",
       "      <td>...</td>\n",
       "      <td>...</td>\n",
       "      <td>...</td>\n",
       "      <td>...</td>\n",
       "    </tr>\n",
       "    <tr>\n",
       "      <th>95</th>\n",
       "      <td>2.535383</td>\n",
       "      <td>0.622430</td>\n",
       "      <td>2.090665</td>\n",
       "      <td>5.370765</td>\n",
       "      <td>86.364681</td>\n",
       "    </tr>\n",
       "    <tr>\n",
       "      <th>96</th>\n",
       "      <td>3.980523</td>\n",
       "      <td>4.666955</td>\n",
       "      <td>1.998694</td>\n",
       "      <td>8.261047</td>\n",
       "      <td>331.377799</td>\n",
       "    </tr>\n",
       "    <tr>\n",
       "      <th>97</th>\n",
       "      <td>2.012214</td>\n",
       "      <td>2.012195</td>\n",
       "      <td>2.790083</td>\n",
       "      <td>4.324427</td>\n",
       "      <td>42.567848</td>\n",
       "    </tr>\n",
       "    <tr>\n",
       "      <th>98</th>\n",
       "      <td>0.874867</td>\n",
       "      <td>2.785506</td>\n",
       "      <td>0.679396</td>\n",
       "      <td>2.049735</td>\n",
       "      <td>17.649409</td>\n",
       "    </tr>\n",
       "    <tr>\n",
       "      <th>99</th>\n",
       "      <td>3.275077</td>\n",
       "      <td>0.410708</td>\n",
       "      <td>0.810368</td>\n",
       "      <td>6.850153</td>\n",
       "      <td>183.953917</td>\n",
       "    </tr>\n",
       "  </tbody>\n",
       "</table>\n",
       "<p>100 rows × 5 columns</p>\n",
       "</div>"
      ],
      "text/plain": [
       "          x1        x2        x3        x4           y\n",
       "0   1.093225  1.309176  1.897384  2.486451   22.235206\n",
       "1   0.157014  1.904288  3.806877  0.614027   10.353393\n",
       "2   1.435626  3.195309  0.754102  3.171253   18.539806\n",
       "3   0.863223  4.285680  2.768888  2.026447   16.726124\n",
       "4   1.516882  0.326480  1.731697  3.333764   18.630835\n",
       "..       ...       ...       ...       ...         ...\n",
       "95  2.535383  0.622430  2.090665  5.370765   86.364681\n",
       "96  3.980523  4.666955  1.998694  8.261047  331.377799\n",
       "97  2.012214  2.012195  2.790083  4.324427   42.567848\n",
       "98  0.874867  2.785506  0.679396  2.049735   17.649409\n",
       "99  3.275077  0.410708  0.810368  6.850153  183.953917\n",
       "\n",
       "[100 rows x 5 columns]"
      ]
     },
     "metadata": {},
     "output_type": "display_data"
    }
   ],
   "source": [
    "display(df)"
   ]
  },
  {
   "cell_type": "code",
   "execution_count": 4,
   "id": "a30f2667",
   "metadata": {},
   "outputs": [
    {
     "data": {
      "text/html": [
       "<div>\n",
       "<style scoped>\n",
       "    .dataframe tbody tr th:only-of-type {\n",
       "        vertical-align: middle;\n",
       "    }\n",
       "\n",
       "    .dataframe tbody tr th {\n",
       "        vertical-align: top;\n",
       "    }\n",
       "\n",
       "    .dataframe thead th {\n",
       "        text-align: right;\n",
       "    }\n",
       "</style>\n",
       "<table border=\"1\" class=\"dataframe\">\n",
       "  <thead>\n",
       "    <tr style=\"text-align: right;\">\n",
       "      <th></th>\n",
       "      <th>x1</th>\n",
       "      <th>x2</th>\n",
       "      <th>x3</th>\n",
       "      <th>x4</th>\n",
       "    </tr>\n",
       "  </thead>\n",
       "  <tbody>\n",
       "    <tr>\n",
       "      <th>0</th>\n",
       "      <td>1.093225</td>\n",
       "      <td>1.309176</td>\n",
       "      <td>1.897384</td>\n",
       "      <td>2.486451</td>\n",
       "    </tr>\n",
       "    <tr>\n",
       "      <th>1</th>\n",
       "      <td>0.157014</td>\n",
       "      <td>1.904288</td>\n",
       "      <td>3.806877</td>\n",
       "      <td>0.614027</td>\n",
       "    </tr>\n",
       "    <tr>\n",
       "      <th>2</th>\n",
       "      <td>1.435626</td>\n",
       "      <td>3.195309</td>\n",
       "      <td>0.754102</td>\n",
       "      <td>3.171253</td>\n",
       "    </tr>\n",
       "    <tr>\n",
       "      <th>3</th>\n",
       "      <td>0.863223</td>\n",
       "      <td>4.285680</td>\n",
       "      <td>2.768888</td>\n",
       "      <td>2.026447</td>\n",
       "    </tr>\n",
       "    <tr>\n",
       "      <th>4</th>\n",
       "      <td>1.516882</td>\n",
       "      <td>0.326480</td>\n",
       "      <td>1.731697</td>\n",
       "      <td>3.333764</td>\n",
       "    </tr>\n",
       "    <tr>\n",
       "      <th>...</th>\n",
       "      <td>...</td>\n",
       "      <td>...</td>\n",
       "      <td>...</td>\n",
       "      <td>...</td>\n",
       "    </tr>\n",
       "    <tr>\n",
       "      <th>95</th>\n",
       "      <td>2.535383</td>\n",
       "      <td>0.622430</td>\n",
       "      <td>2.090665</td>\n",
       "      <td>5.370765</td>\n",
       "    </tr>\n",
       "    <tr>\n",
       "      <th>96</th>\n",
       "      <td>3.980523</td>\n",
       "      <td>4.666955</td>\n",
       "      <td>1.998694</td>\n",
       "      <td>8.261047</td>\n",
       "    </tr>\n",
       "    <tr>\n",
       "      <th>97</th>\n",
       "      <td>2.012214</td>\n",
       "      <td>2.012195</td>\n",
       "      <td>2.790083</td>\n",
       "      <td>4.324427</td>\n",
       "    </tr>\n",
       "    <tr>\n",
       "      <th>98</th>\n",
       "      <td>0.874867</td>\n",
       "      <td>2.785506</td>\n",
       "      <td>0.679396</td>\n",
       "      <td>2.049735</td>\n",
       "    </tr>\n",
       "    <tr>\n",
       "      <th>99</th>\n",
       "      <td>3.275077</td>\n",
       "      <td>0.410708</td>\n",
       "      <td>0.810368</td>\n",
       "      <td>6.850153</td>\n",
       "    </tr>\n",
       "  </tbody>\n",
       "</table>\n",
       "<p>100 rows × 4 columns</p>\n",
       "</div>"
      ],
      "text/plain": [
       "          x1        x2        x3        x4\n",
       "0   1.093225  1.309176  1.897384  2.486451\n",
       "1   0.157014  1.904288  3.806877  0.614027\n",
       "2   1.435626  3.195309  0.754102  3.171253\n",
       "3   0.863223  4.285680  2.768888  2.026447\n",
       "4   1.516882  0.326480  1.731697  3.333764\n",
       "..       ...       ...       ...       ...\n",
       "95  2.535383  0.622430  2.090665  5.370765\n",
       "96  3.980523  4.666955  1.998694  8.261047\n",
       "97  2.012214  2.012195  2.790083  4.324427\n",
       "98  0.874867  2.785506  0.679396  2.049735\n",
       "99  3.275077  0.410708  0.810368  6.850153\n",
       "\n",
       "[100 rows x 4 columns]"
      ]
     },
     "metadata": {},
     "output_type": "display_data"
    }
   ],
   "source": [
    "X = df[['x1', 'x2', 'x3', 'x4']]\n",
    "display(X)"
   ]
  },
  {
   "cell_type": "code",
   "execution_count": 5,
   "id": "8233d66d",
   "metadata": {},
   "outputs": [
    {
     "data": {
      "text/plain": [
       "0      22.235206\n",
       "1      10.353393\n",
       "2      18.539806\n",
       "3      16.726124\n",
       "4      18.630835\n",
       "         ...    \n",
       "95     86.364681\n",
       "96    331.377799\n",
       "97     42.567848\n",
       "98     17.649409\n",
       "99    183.953917\n",
       "Name: y, Length: 100, dtype: float64"
      ]
     },
     "metadata": {},
     "output_type": "display_data"
    }
   ],
   "source": [
    "y = df['y']\n",
    "display(y)"
   ]
  },
  {
   "cell_type": "markdown",
   "id": "1c8fb296",
   "metadata": {},
   "source": [
    "y = f(x), what is f?"
   ]
  },
  {
   "cell_type": "code",
   "execution_count": 6,
   "id": "c33ba448",
   "metadata": {},
   "outputs": [
    {
     "data": {
      "text/html": [
       "<div>\n",
       "<style scoped>\n",
       "    .dataframe tbody tr th:only-of-type {\n",
       "        vertical-align: middle;\n",
       "    }\n",
       "\n",
       "    .dataframe tbody tr th {\n",
       "        vertical-align: top;\n",
       "    }\n",
       "\n",
       "    .dataframe thead th {\n",
       "        text-align: right;\n",
       "    }\n",
       "</style>\n",
       "<table border=\"1\" class=\"dataframe\">\n",
       "  <thead>\n",
       "    <tr style=\"text-align: right;\">\n",
       "      <th></th>\n",
       "      <th>x1</th>\n",
       "      <th>x2</th>\n",
       "      <th>x3</th>\n",
       "      <th>x4</th>\n",
       "      <th>y</th>\n",
       "    </tr>\n",
       "  </thead>\n",
       "  <tbody>\n",
       "    <tr>\n",
       "      <th>x1</th>\n",
       "      <td>1.000000</td>\n",
       "      <td>0.177777</td>\n",
       "      <td>0.057846</td>\n",
       "      <td>1.000000</td>\n",
       "      <td>0.904964</td>\n",
       "    </tr>\n",
       "    <tr>\n",
       "      <th>x2</th>\n",
       "      <td>0.177777</td>\n",
       "      <td>1.000000</td>\n",
       "      <td>0.086735</td>\n",
       "      <td>0.177777</td>\n",
       "      <td>0.210846</td>\n",
       "    </tr>\n",
       "    <tr>\n",
       "      <th>x3</th>\n",
       "      <td>0.057846</td>\n",
       "      <td>0.086735</td>\n",
       "      <td>1.000000</td>\n",
       "      <td>0.057846</td>\n",
       "      <td>0.057919</td>\n",
       "    </tr>\n",
       "    <tr>\n",
       "      <th>x4</th>\n",
       "      <td>1.000000</td>\n",
       "      <td>0.177777</td>\n",
       "      <td>0.057846</td>\n",
       "      <td>1.000000</td>\n",
       "      <td>0.904964</td>\n",
       "    </tr>\n",
       "    <tr>\n",
       "      <th>y</th>\n",
       "      <td>0.904964</td>\n",
       "      <td>0.210846</td>\n",
       "      <td>0.057919</td>\n",
       "      <td>0.904964</td>\n",
       "      <td>1.000000</td>\n",
       "    </tr>\n",
       "  </tbody>\n",
       "</table>\n",
       "</div>"
      ],
      "text/plain": [
       "          x1        x2        x3        x4         y\n",
       "x1  1.000000  0.177777  0.057846  1.000000  0.904964\n",
       "x2  0.177777  1.000000  0.086735  0.177777  0.210846\n",
       "x3  0.057846  0.086735  1.000000  0.057846  0.057919\n",
       "x4  1.000000  0.177777  0.057846  1.000000  0.904964\n",
       "y   0.904964  0.210846  0.057919  0.904964  1.000000"
      ]
     },
     "execution_count": 6,
     "metadata": {},
     "output_type": "execute_result"
    }
   ],
   "source": [
    "df.corr(method='pearson')"
   ]
  },
  {
   "cell_type": "markdown",
   "id": "51ca9b65",
   "metadata": {},
   "source": [
    "y = f(x1,x2,x3), importance x1 > x2 > x3\n",
    "pearson = Cov(x,y)/sqrt(std(y)std(x)), good for linear correlations\n",
    "y = x^10 vs y = x"
   ]
  },
  {
   "cell_type": "code",
   "execution_count": 7,
   "id": "eeaa5618",
   "metadata": {},
   "outputs": [
    {
     "data": {
      "text/html": [
       "<div>\n",
       "<style scoped>\n",
       "    .dataframe tbody tr th:only-of-type {\n",
       "        vertical-align: middle;\n",
       "    }\n",
       "\n",
       "    .dataframe tbody tr th {\n",
       "        vertical-align: top;\n",
       "    }\n",
       "\n",
       "    .dataframe thead th {\n",
       "        text-align: right;\n",
       "    }\n",
       "</style>\n",
       "<table border=\"1\" class=\"dataframe\">\n",
       "  <thead>\n",
       "    <tr style=\"text-align: right;\">\n",
       "      <th></th>\n",
       "      <th>x1</th>\n",
       "      <th>x2</th>\n",
       "      <th>x3</th>\n",
       "      <th>x4</th>\n",
       "      <th>y</th>\n",
       "    </tr>\n",
       "  </thead>\n",
       "  <tbody>\n",
       "    <tr>\n",
       "      <th>x1</th>\n",
       "      <td>1.000000</td>\n",
       "      <td>0.150471</td>\n",
       "      <td>0.046553</td>\n",
       "      <td>1.000000</td>\n",
       "      <td>0.979082</td>\n",
       "    </tr>\n",
       "    <tr>\n",
       "      <th>x2</th>\n",
       "      <td>0.150471</td>\n",
       "      <td>1.000000</td>\n",
       "      <td>0.080336</td>\n",
       "      <td>0.150471</td>\n",
       "      <td>0.209133</td>\n",
       "    </tr>\n",
       "    <tr>\n",
       "      <th>x3</th>\n",
       "      <td>0.046553</td>\n",
       "      <td>0.080336</td>\n",
       "      <td>1.000000</td>\n",
       "      <td>0.046553</td>\n",
       "      <td>0.058722</td>\n",
       "    </tr>\n",
       "    <tr>\n",
       "      <th>x4</th>\n",
       "      <td>1.000000</td>\n",
       "      <td>0.150471</td>\n",
       "      <td>0.046553</td>\n",
       "      <td>1.000000</td>\n",
       "      <td>0.979082</td>\n",
       "    </tr>\n",
       "    <tr>\n",
       "      <th>y</th>\n",
       "      <td>0.979082</td>\n",
       "      <td>0.209133</td>\n",
       "      <td>0.058722</td>\n",
       "      <td>0.979082</td>\n",
       "      <td>1.000000</td>\n",
       "    </tr>\n",
       "  </tbody>\n",
       "</table>\n",
       "</div>"
      ],
      "text/plain": [
       "          x1        x2        x3        x4         y\n",
       "x1  1.000000  0.150471  0.046553  1.000000  0.979082\n",
       "x2  0.150471  1.000000  0.080336  0.150471  0.209133\n",
       "x3  0.046553  0.080336  1.000000  0.046553  0.058722\n",
       "x4  1.000000  0.150471  0.046553  1.000000  0.979082\n",
       "y   0.979082  0.209133  0.058722  0.979082  1.000000"
      ]
     },
     "execution_count": 7,
     "metadata": {},
     "output_type": "execute_result"
    }
   ],
   "source": [
    "df.corr(method='spearman')"
   ]
  },
  {
   "cell_type": "markdown",
   "id": "8d1a52d7",
   "metadata": {},
   "source": [
    "pearson -> linear, spearman -> nonlinear"
   ]
  },
  {
   "cell_type": "code",
   "execution_count": null,
   "id": "2e003ad9",
   "metadata": {},
   "outputs": [],
   "source": [
    "from scipy.stats import pearsonr, spearmanr"
   ]
  },
  {
   "cell_type": "code",
   "execution_count": null,
   "id": "6cae0739",
   "metadata": {},
   "outputs": [],
   "source": [
    "print(spearmanr(X.values, y.values.reshape((-1,1))).pvalue)"
   ]
  },
  {
   "cell_type": "markdown",
   "id": "8946b245",
   "metadata": {},
   "source": [
    "y = p(x1) + a*x2 + b*x3 + c"
   ]
  },
  {
   "cell_type": "code",
   "execution_count": null,
   "id": "2cd886e5",
   "metadata": {},
   "outputs": [],
   "source": [
    "import matplotlib.pyplot as plt"
   ]
  },
  {
   "cell_type": "code",
   "execution_count": null,
   "id": "002d425b",
   "metadata": {},
   "outputs": [],
   "source": [
    "plt.figure()\n",
    "plt.scatter(X['x1'], y)\n",
    "plt.plot(np.linspace(0,5,100), 10*np.linspace(0,5,100)**2, color='r')\n",
    "plt.plot(np.linspace(0,5,100), np.linspace(0,5,100)**4, color='g')"
   ]
  },
  {
   "cell_type": "code",
   "execution_count": null,
   "id": "b8d446c9",
   "metadata": {
    "scrolled": true
   },
   "outputs": [],
   "source": [
    "import statsmodels.api as sm\n",
    "\n",
    "# building the model and fitting the data\n",
    "x = X['x1'].values.reshape((-1,1))\n",
    "for ii in range(2,5):\n",
    "    x = np.hstack([x, X['x1'].values.reshape((-1,1))**ii])\n",
    "display(X['x1'])\n",
    "print(x)\n",
    "print(x.shape)"
   ]
  },
  {
   "cell_type": "code",
   "execution_count": null,
   "id": "51e212b9",
   "metadata": {},
   "outputs": [],
   "source": [
    "reg = sm.OLS(y, sm.add_constant(x)).fit()\n",
    "\n",
    "print(reg.summary())"
   ]
  },
  {
   "cell_type": "markdown",
   "id": "cb5ba410",
   "metadata": {},
   "source": [
    "$$y = ax_1^3 + bx_2 + cx_3 + d$$"
   ]
  },
  {
   "cell_type": "code",
   "execution_count": null,
   "id": "3c9f928b",
   "metadata": {},
   "outputs": [],
   "source": [
    "V = np.hstack([X['x1'].values.reshape((-1,1))**3, X['x2'].values.reshape((-1,1)), X['x3'].values.reshape((-1,1))])\n",
    "# print(V)\n",
    "V = pd.DataFrame(V, columns=['x1^3', 'x2', 'x3'])\n",
    "display(V)"
   ]
  },
  {
   "cell_type": "code",
   "execution_count": null,
   "id": "250745fc",
   "metadata": {},
   "outputs": [],
   "source": [
    "reg = sm.OLS(y, sm.add_constant(V)).fit()\n",
    "\n",
    "print(reg.summary())"
   ]
  },
  {
   "cell_type": "code",
   "execution_count": null,
   "id": "e7924381",
   "metadata": {},
   "outputs": [],
   "source": [
    "W = V[['x1^3', 'x2']]"
   ]
  },
  {
   "cell_type": "code",
   "execution_count": null,
   "id": "fa2db956",
   "metadata": {},
   "outputs": [],
   "source": [
    "reg = sm.OLS(y, sm.add_constant(W)).fit()\n",
    "\n",
    "print(reg.summary())"
   ]
  },
  {
   "cell_type": "code",
   "execution_count": null,
   "id": "8aaaf10d",
   "metadata": {},
   "outputs": [],
   "source": [
    "plt.figure()\n",
    "plt.scatter(X['x3'], y)"
   ]
  },
  {
   "cell_type": "markdown",
   "id": "bb1ff9dc",
   "metadata": {},
   "source": [
    "=================== BELOW NOT TO BE RUN ==================="
   ]
  },
  {
   "cell_type": "code",
   "execution_count": null,
   "id": "f2549138",
   "metadata": {},
   "outputs": [],
   "source": [
    "import numpy as np\n",
    "np.random.seed(65)\n",
    "\n",
    "bias = 1.0\n",
    "coef = np.array([5.0,2.0,0.2]).reshape(-1,1)\n",
    "sigma_noise = 5.\n",
    "\n",
    "x1 = np.random.uniform(low=0,high=5,size=(100,1))\n",
    "x2 = np.random.uniform(low=0,high=5,size=(100,1))\n",
    "x3 = np.random.uniform(low=0,high=5,size=(100,1))\n",
    "\n",
    "x = np.concatenate([x1**3,x2,x3],axis=1)\n",
    "noise = np.random.normal(0,sigma_noise,size=(len(x),1))\n",
    "# y = A + B*x1 + C*x1**2 + D*x**3 + \n",
    "y = x@coef + bias + noise\n",
    "\n",
    "# Remove quadratic term (needs to be found!!!)\n",
    "x = x[:,1:]\n",
    "# Add a correlat\n",
    "\n",
    "x = np.concatenate([x1,x,2.*x1+0.3],axis=1)\n",
    "\n",
    "# plt.scatter(x[:,0],y.ravel()) # Linear X1\n",
    "# plt.scatter(x[:,1],y.ravel()) # Linear X2\n",
    "# plt.scatter(x[:,2],y.ravel()) # Correlated X1 linear\n",
    "# print(y)\n",
    "# print(x)\n",
    "\n",
    "df = pd.DataFrame(columns=['x1','x2','x3','x4'], data=x)\n",
    "df['y'] = y\n",
    "df.to_csv('test_df_correlations.csv',index=False)"
   ]
  },
  {
   "cell_type": "markdown",
   "id": "4de75b88",
   "metadata": {},
   "source": [
    "=================== BELOW NOT TO BE RUN ==================="
   ]
  },
  {
   "cell_type": "code",
   "execution_count": null,
   "id": "61afa9f3",
   "metadata": {},
   "outputs": [],
   "source": [
    "def linear_regression(x: np.ndarray, y: np.ndarray):\n",
    "    # Add bias unit\n",
    "    x = np.concatenate([np.ones_like(x),x],axis=1)\n",
    "    # Solve normal equations\n",
    "    beta = np.linalg.pinv(x.T@x)@x.T@y\n",
    "    # Now estimate errors around parameters\n",
    "    # See: https://stats.stackexchange.com/questions/44838/how-are-the-standard-errors-of-coefficients-calculated-in-a-regression\n",
    "    sigma_2 = (((y - x@beta)**2)/(x.shape[0] - x.shape[1])).sum()  # Noise estimate\n",
    "    var = np.linalg.pinv(x.T@x)*sigma_2  # Parameter's variance\n",
    "    std_err = np.sqrt(np.diag(var))  # Standard error (deviation)\n",
    "    \n",
    "    # Return parameters and corresponding standard errors (bias,slope)\n",
    "    return beta.ravel(), std_err.ravel()"
   ]
  }
 ],
 "metadata": {
  "kernelspec": {
   "display_name": "Python 3 (ipykernel)",
   "language": "python",
   "name": "python3"
  },
  "language_info": {
   "codemirror_mode": {
    "name": "ipython",
    "version": 3
   },
   "file_extension": ".py",
   "mimetype": "text/x-python",
   "name": "python",
   "nbconvert_exporter": "python",
   "pygments_lexer": "ipython3",
   "version": "3.9.15"
  }
 },
 "nbformat": 4,
 "nbformat_minor": 5
}
