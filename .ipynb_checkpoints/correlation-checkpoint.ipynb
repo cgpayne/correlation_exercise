{
 "cells": [
  {
   "cell_type": "code",
   "execution_count": null,
   "id": "6aa23146",
   "metadata": {},
   "outputs": [],
   "source": [
    "import pandas as pd\n",
    "import numpy as np"
   ]
  },
  {
   "cell_type": "code",
   "execution_count": null,
   "id": "2540a828",
   "metadata": {},
   "outputs": [],
   "source": [
    "df = pd.read_csv('test_df_correlations.csv')"
   ]
  },
  {
   "cell_type": "code",
   "execution_count": null,
   "id": "ec5cc26e",
   "metadata": {},
   "outputs": [],
   "source": [
    "display(df)"
   ]
  },
  {
   "cell_type": "code",
   "execution_count": null,
   "id": "a30f2667",
   "metadata": {},
   "outputs": [],
   "source": [
    "X = df[['x1', 'x2', 'x3', 'x4']]\n",
    "display(X)"
   ]
  },
  {
   "cell_type": "code",
   "execution_count": null,
   "id": "8233d66d",
   "metadata": {},
   "outputs": [],
   "source": [
    "y = df['y']\n",
    "display(y)"
   ]
  },
  {
   "cell_type": "markdown",
   "id": "1c8fb296",
   "metadata": {},
   "source": [
    "y = f(x), what is f?"
   ]
  },
  {
   "cell_type": "code",
   "execution_count": null,
   "id": "c33ba448",
   "metadata": {},
   "outputs": [],
   "source": [
    "df.corr(method='pearson')"
   ]
  },
  {
   "cell_type": "markdown",
   "id": "51ca9b65",
   "metadata": {},
   "source": [
    "y = f(x1,x2,x3), importance x1 > x2 > x3\n",
    "pearson = Cov(x,y)/sqrt(std(y)std(x)), good for linear correlations\n",
    "y = x^10 vs y = x"
   ]
  },
  {
   "cell_type": "code",
   "execution_count": null,
   "id": "eeaa5618",
   "metadata": {},
   "outputs": [],
   "source": [
    "df.corr(method='spearman')"
   ]
  },
  {
   "cell_type": "markdown",
   "id": "8d1a52d7",
   "metadata": {},
   "source": [
    "pearson -> linear, spearman -> nonlinear"
   ]
  },
  {
   "cell_type": "code",
   "execution_count": null,
   "id": "2e003ad9",
   "metadata": {},
   "outputs": [],
   "source": [
    "from scipy.stats import pearsonr, spearmanr"
   ]
  },
  {
   "cell_type": "code",
   "execution_count": null,
   "id": "6cae0739",
   "metadata": {},
   "outputs": [],
   "source": [
    "print(spearmanr(X.values, y.values.reshape((-1,1))).pvalue)"
   ]
  },
  {
   "cell_type": "markdown",
   "id": "8946b245",
   "metadata": {},
   "source": [
    "y = p(x1) + a*x2 + b*x3 + c"
   ]
  },
  {
   "cell_type": "code",
   "execution_count": null,
   "id": "2cd886e5",
   "metadata": {},
   "outputs": [],
   "source": [
    "import matplotlib.pyplot as plt"
   ]
  },
  {
   "cell_type": "code",
   "execution_count": null,
   "id": "002d425b",
   "metadata": {},
   "outputs": [],
   "source": [
    "plt.figure()\n",
    "plt.scatter(X['x1'], y)\n",
    "plt.plot(np.linspace(0,5,100), 10*np.linspace(0,5,100)**2, color='r')\n",
    "plt.plot(np.linspace(0,5,100), np.linspace(0,5,100)**4, color='g')"
   ]
  },
  {
   "cell_type": "code",
   "execution_count": null,
   "id": "b8d446c9",
   "metadata": {},
   "outputs": [],
   "source": [
    "import statsmodels.api as sm\n",
    "\n",
    "# building the model and fitting the data\n",
    "x = X['x1'].values.reshape((-1,1))\n",
    "for ii in range(2,5):\n",
    "    x = np.hstack([x, X['x1'].values.reshape((-1,1))**ii])\n",
    "display(X['x1'])\n",
    "print(x)\n",
    "print(x.shape)"
   ]
  },
  {
   "cell_type": "code",
   "execution_count": null,
   "id": "51e212b9",
   "metadata": {},
   "outputs": [],
   "source": [
    "reg = sm.OLS(y, sm.add_constant(x)).fit()\n",
    "\n",
    "print(reg.summary())"
   ]
  },
  {
   "cell_type": "markdown",
   "id": "cb5ba410",
   "metadata": {},
   "source": [
    "$$y = ax_1^3 + bx_2 + cx_3 + d$$"
   ]
  },
  {
   "cell_type": "code",
   "execution_count": null,
   "id": "3c9f928b",
   "metadata": {},
   "outputs": [],
   "source": [
    "V = np.hstack([X['x1'].values.reshape((-1,1))**3, X['x2'].values.reshape((-1,1)), X['x3'].values.reshape((-1,1))])\n",
    "# print(V)\n",
    "V = pd.DataFrame(V, columns=['x1^3', 'x2', 'x3'])\n",
    "display(V)"
   ]
  },
  {
   "cell_type": "code",
   "execution_count": null,
   "id": "250745fc",
   "metadata": {},
   "outputs": [],
   "source": [
    "reg = sm.OLS(y, sm.add_constant(V)).fit()\n",
    "\n",
    "print(reg.summary())"
   ]
  },
  {
   "cell_type": "code",
   "execution_count": null,
   "id": "e7924381",
   "metadata": {},
   "outputs": [],
   "source": [
    "W = V[['x1^3', 'x2']]"
   ]
  },
  {
   "cell_type": "code",
   "execution_count": null,
   "id": "fa2db956",
   "metadata": {},
   "outputs": [],
   "source": [
    "reg = sm.OLS(y, sm.add_constant(W)).fit()\n",
    "\n",
    "print(reg.summary())"
   ]
  },
  {
   "cell_type": "code",
   "execution_count": null,
   "id": "8aaaf10d",
   "metadata": {},
   "outputs": [],
   "source": [
    "plt.figure()\n",
    "plt.scatter(X['x3'], y)"
   ]
  },
  {
   "cell_type": "markdown",
   "id": "bb1ff9dc",
   "metadata": {},
   "source": [
    "================================================"
   ]
  },
  {
   "cell_type": "code",
   "execution_count": null,
   "id": "f2549138",
   "metadata": {},
   "outputs": [],
   "source": [
    "import numpy as np\n",
    "np.random.seed(65)\n",
    "\n",
    "bias = 1.0\n",
    "coef = np.array([5.0,2.0,0.2]).reshape(-1,1)\n",
    "sigma_noise = 5.\n",
    "\n",
    "x1 = np.random.uniform(low=0,high=5,size=(100,1))\n",
    "x2 = np.random.uniform(low=0,high=5,size=(100,1))\n",
    "x3 = np.random.uniform(low=0,high=5,size=(100,1))\n",
    "\n",
    "x = np.concatenate([x1**3,x2,x3],axis=1)\n",
    "noise = np.random.normal(0,sigma_noise,size=(len(x),1))\n",
    "# y = A + B*x1 + C*x1**2 + D*x**3 + \n",
    "y = x@coef + bias + noise\n",
    "\n",
    "# Remove quadratic term (needs to be found!!!)\n",
    "x = x[:,1:]\n",
    "# Add a correlat\n",
    "\n",
    "x = np.concatenate([x1,x,2.*x1+0.3],axis=1)\n",
    "\n",
    "# plt.scatter(x[:,0],y.ravel()) # Linear X1\n",
    "# plt.scatter(x[:,1],y.ravel()) # Linear X2\n",
    "# plt.scatter(x[:,2],y.ravel()) # Correlated X1 linear\n",
    "# print(y)\n",
    "# print(x)\n",
    "\n",
    "df = pd.DataFrame(columns=['x1','x2','x3','x4'], data=x)\n",
    "df['y'] = y\n",
    "df.to_csv('/Users/mirkomiorelli/Downloads/test_df_correlations.csv',index=False)"
   ]
  },
  {
   "cell_type": "markdown",
   "id": "4de75b88",
   "metadata": {},
   "source": [
    "================================================"
   ]
  },
  {
   "cell_type": "code",
   "execution_count": null,
   "id": "61afa9f3",
   "metadata": {},
   "outputs": [],
   "source": [
    "def linear_regression(x: np.ndarray, y: np.ndarray):\n",
    "    # Add bias unit\n",
    "    x = np.concatenate([np.ones_like(x),x],axis=1)\n",
    "    # Solve normal equations\n",
    "    beta = np.linalg.pinv(x.T@x)@x.T@y\n",
    "    # Now estimate errors around parameters\n",
    "    # See: https://stats.stackexchange.com/questions/44838/how-are-the-standard-errors-of-coefficients-calculated-in-a-regression\n",
    "    sigma_2 = (((y - x@beta)**2)/(x.shape[0] - x.shape[1])).sum()  # Noise estimate\n",
    "    var = np.linalg.pinv(x.T@x)*sigma_2  # Parameter's variance\n",
    "    std_err = np.sqrt(np.diag(var))  # Standard error (deviation)\n",
    "    \n",
    "    # Return parameters and corresponding standard errors (bias,slope)\n",
    "    return beta.ravel(), std_err.ravel()"
   ]
  }
 ],
 "metadata": {
  "kernelspec": {
   "display_name": "Python 3 (ipykernel)",
   "language": "python",
   "name": "python3"
  },
  "language_info": {
   "codemirror_mode": {
    "name": "ipython",
    "version": 3
   },
   "file_extension": ".py",
   "mimetype": "text/x-python",
   "name": "python",
   "nbconvert_exporter": "python",
   "pygments_lexer": "ipython3",
   "version": "3.9.15"
  }
 },
 "nbformat": 4,
 "nbformat_minor": 5
}
